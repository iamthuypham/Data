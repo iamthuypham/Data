{
 "cells": [
  {
   "cell_type": "code",
   "execution_count": 13,
   "metadata": {
    "collapsed": false
   },
   "outputs": [
    {
     "name": "stdout",
     "output_type": "stream",
     "text": [
      "['Coffee', 'Water', 'Milk', 'Icecream']\n",
      "['Espresso', 'No', 'No', 'No']\n",
      "['Long Black', 'Yes', 'No', 'No']\n",
      "['Flat White', 'No', 'Yes', 'No']\n",
      "['Cappuccino', 'No', 'Yes - Frothy', 'No']\n",
      "['Affogato', 'No', 'No', 'Yes']\n"
     ]
    }
   ],
   "source": [
    "import csv\n",
    "f=open(\"coffee.csv\")\n",
    "for row in csv.reader(f):\n",
    "    print(row)\n",
    "    \n",
    "import csv\n"
   ]
  },
  {
   "cell_type": "code",
   "execution_count": null,
   "metadata": {
    "collapsed": true
   },
   "outputs": [],
   "source": []
  }
 ],
 "metadata": {
  "kernelspec": {
   "display_name": "Python 3",
   "language": "python",
   "name": "python3"
  },
  "language_info": {
   "codemirror_mode": {
    "name": "ipython",
    "version": 3
   },
   "file_extension": ".py",
   "mimetype": "text/x-python",
   "name": "python",
   "nbconvert_exporter": "python",
   "pygments_lexer": "ipython3",
   "version": "3.5.1"
  }
 },
 "nbformat": 4,
 "nbformat_minor": 0
}
