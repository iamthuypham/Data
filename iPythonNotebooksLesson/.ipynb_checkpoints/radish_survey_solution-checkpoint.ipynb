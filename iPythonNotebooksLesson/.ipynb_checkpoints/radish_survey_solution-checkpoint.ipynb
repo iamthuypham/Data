{
 "cells": [
  {
   "cell_type": "code",
   "execution_count": null,
   "metadata": {
    "collapsed": true
   },
   "outputs": [],
   "source": [
    "# Create an empty dictionary for associating radish names\n",
    "# with vote counts\n",
    "counts = {}\n",
    "\n",
    "# Create an empty list with the names of everyone who voted\n",
    "voted = []\n",
    "\n",
    "# Clean up (munge) a string so it's easy to match against other     strings\n",
    "def clean_string(s):\n",
    "    return s.strip().capitalize().replace(\"  \",\" \")\n",
    "\n",
    "# Check if someone has voted already and return True or False\n",
    "def has_already_voted(name):\n",
    "    if name in voted:\n",
    "        print(name + \" has already voted! Fraud!\")\n",
    "        return True\n",
    "    return False\n",
    "\n",
    "# Count a vote for the radish variety named 'radish'\n",
    "def count_vote(radish):\n",
    "    if not radish in counts:\n",
    "        # First vote for this variety\n",
    "        counts[radish] = 1\n",
    "    else:\n",
    "        # Increment the radish count\n",
    "        counts[radish] = counts[radish] + 1\n",
    "\n",
    "\n",
    "for line in open(\"radishsurvey.txt\"):\n",
    "    line = line.strip()\n",
    "    name, vote = line.split(\" - \")\n",
    "    name = clean_string(name)\n",
    "    vote = clean_string(vote)\n",
    "\n",
    "    if not has_already_voted(name):\n",
    "        count_vote(vote)\n",
    "    voted.append(name)\n",
    "\n",
    "print(\"Results:\")\n",
    "print()\n",
    "for name in counts:\n",
    "    print(name + \": \" + str(counts[name]))\n",
    "    \n",
    "# Record the winning name and the votes cast for it\n",
    "winner_name = \"No winner\"\n",
    "winner_votes = 0\n",
    "\n",
    "for name in counts:\n",
    "    if counts[name] > winner_votes:\n",
    "        winner_votes = counts[name]\n",
    "        winner_name = name\n",
    "\n",
    "print(\"The winner is: \" + winner_name)"
   ]
  }
 ],
 "metadata": {
  "kernelspec": {
   "display_name": "Python 3",
   "language": "python",
   "name": "python3"
  },
  "language_info": {
   "codemirror_mode": {
    "name": "ipython",
    "version": 3
   },
   "file_extension": ".py",
   "mimetype": "text/x-python",
   "name": "python",
   "nbconvert_exporter": "python",
   "pygments_lexer": "ipython3",
   "version": "3.5.1"
  }
 },
 "nbformat": 4,
 "nbformat_minor": 0
}
