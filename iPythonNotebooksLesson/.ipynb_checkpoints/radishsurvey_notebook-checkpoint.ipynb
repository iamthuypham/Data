{
 "cells": [
  {
   "cell_type": "code",
   "execution_count": 115,
   "metadata": {
    "collapsed": true
   },
   "outputs": [
    {
     "name": "stdout",
     "output_type": "stream",
     "text": [
      "April Cross\n",
      "67\n",
      "Champion\n",
      "75\n",
      "Cherry Belle\n",
      "53\n",
      "Snow Belle\n",
      "58\n",
      "Bunny Tail\n",
      "68\n",
      "Sicily Giant\n",
      "52\n",
      "Plum Purple\n",
      "53\n",
      "Red King\n",
      "52\n",
      "Daikon\n",
      "58\n",
      "White Icicle\n",
      "59\n",
      "French Breakfast\n",
      "65\n",
      "Cherry  Belle\n",
      "1\n",
      "Plum  Purple\n",
      "1\n",
      "Sicily  Giant\n",
      "1\n"
     ]
    }
   ],
   "source": [
    "f = open(\"radishsurvey.txt\")\n",
    "radish_list=[]\n",
    "for line in f:\n",
    "    line = line.strip()\n",
    "    parts = line.split(\" - \")\n",
    "    radish = parts[1].lstrip(' ').title()      \n",
    "    if radish not in radish_list:\n",
    "        radish_list.append(radish)\n",
    "\n",
    "def count_specific_vote(radish):\n",
    "    f = open(\"radishsurvey.txt\")\n",
    "    count = 0\n",
    "    for line in f:\n",
    "        line = line.strip()\n",
    "        parts = line.split(\" - \")\n",
    "        name = parts[0]\n",
    "        vote = parts[1]       \n",
    "        if vote == radish:\n",
    "            count += 1\n",
    "    return count\n",
    "\n",
    "for radish in radish_list:\n",
    "    print(radish)\n",
    "    print(count_specific_vote(radish))\n"
   ]
  },
  {
   "cell_type": "code",
   "execution_count": 1,
   "metadata": {
    "collapsed": false,
    "scrolled": true
   },
   "outputs": [
    {
     "data": {
      "text/plain": [
       "{'April Cross': 72,\n",
       " 'Bunny Tail': 72,\n",
       " 'Champion': 76,\n",
       " 'Cherry Belle': 58,\n",
       " 'Daikon': 63,\n",
       " 'French Breakfast': 72,\n",
       " 'Plum Purple': 57,\n",
       " 'Red King': 56,\n",
       " 'Sicily Giant': 57,\n",
       " 'Snow Belle': 63,\n",
       " 'White Icicle': 65}"
      ]
     },
     "execution_count": 1,
     "metadata": {},
     "output_type": "execute_result"
    }
   ],
   "source": [
    "# Create an empty dictionary for associating radish names\n",
    "f = open(\"radishsurvey.txt\")\n",
    "count={}\n",
    "voted=[]\n",
    "\n",
    "for line in f:\n",
    "    line = line.strip()\n",
    "    parts = line.split(\" - \")\n",
    "    vote = parts[1].lstrip(' ').title().replace(\"  \",\" \")\n",
    "    name = parts[0].lstrip(' ').title().replace(\"  \",\" \")\n",
    "    if name not in voted:\n",
    "        if vote not in count:\n",
    "            count[vote] = 1\n",
    "        else:\n",
    "            count[vote] += 1\n",
    "    else:\n",
    "        voted.append(name)\n",
    "        print(name + \" has already voted!\")\n",
    "        continue\n",
    "\n",
    "count\n",
    "for name in count:\n",
    "    print()"
   ]
  },
  {
   "cell_type": "code",
   "execution_count": null,
   "metadata": {
    "collapsed": true
   },
   "outputs": [],
   "source": []
  }
 ],
 "metadata": {
  "kernelspec": {
   "display_name": "Python 3",
   "language": "python",
   "name": "python3"
  },
  "language_info": {
   "codemirror_mode": {
    "name": "ipython",
    "version": 3
   },
   "file_extension": ".py",
   "mimetype": "text/x-python",
   "name": "python",
   "nbconvert_exporter": "python",
   "pygments_lexer": "ipython3",
   "version": "3.5.1"
  }
 },
 "nbformat": 4,
 "nbformat_minor": 0
}
