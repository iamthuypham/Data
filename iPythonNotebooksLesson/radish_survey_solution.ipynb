{
 "cells": [
  {
   "cell_type": "code",
   "execution_count": 2,
   "metadata": {
    "collapsed": false
   },
   "outputs": [
    {
     "name": "stdout",
     "output_type": "stream",
     "text": [
      "Phoebe Barwell has already voted! Fraud!\n",
      "Procopio Zito has already voted! Fraud!\n",
      "Results:\n",
      "\n",
      "Red King: 56\n",
      "Plum Purple: 56\n",
      "Snow Belle: 63\n",
      "Daikon: 63\n",
      "April Cross: 72\n",
      "Champion: 76\n",
      "French Breakfast: 72\n",
      "Bunny Tail: 72\n",
      "Cherry Belle: 58\n",
      "Sicily Giant: 57\n",
      "White Icicle: 64\n",
      "The winner is: Champion\n"
     ]
    }
   ],
   "source": [
    "# Create an empty dictionary for associating radish names\n",
    "# with vote counts\n",
    "counts = {}\n",
    "\n",
    "# Create an empty list with the names of everyone who voted\n",
    "voted = []\n",
    "\n",
    "# Clean up (munge) a string so it's easy to match against other     strings\n",
    "def clean_string(s):\n",
    "    return s.strip().title().replace(\"  \",\" \")\n",
    "\n",
    "# Check if someone has voted already and return True or False\n",
    "def has_already_voted(name):\n",
    "    if name in voted:\n",
    "        print(name + \" has already voted! Fraud!\")\n",
    "        return True\n",
    "    return False\n",
    "\n",
    "# Count a vote for the radish variety named 'radish'\n",
    "def count_vote(radish):\n",
    "    if not radish in counts:\n",
    "        # First vote for this variety\n",
    "        counts[radish] = 1\n",
    "    else:\n",
    "        # Increment the radish count\n",
    "        counts[radish] = counts[radish] + 1\n",
    "\n",
    "\n",
    "for line in open(\"radishsurvey.txt\"):\n",
    "    line = line.strip()\n",
    "    name, vote = line.split(\" - \")\n",
    "    name = clean_string(name)\n",
    "    vote = clean_string(vote)\n",
    "\n",
    "    if not has_already_voted(name):\n",
    "        count_vote(vote)\n",
    "    voted.append(name)\n",
    "\n",
    "print(\"Results:\")\n",
    "print()\n",
    "for name in counts:\n",
    "    print(name + \": \" + str(counts[name]))\n",
    "    \n",
    "# Record the winning name and the votes cast for it\n",
    "winner_name = \"No winner\"\n",
    "winner_votes = 0\n",
    "\n",
    "for name in counts:\n",
    "    if counts[name] > winner_votes:\n",
    "        winner_votes = counts[name]\n",
    "        winner_name = name\n",
    "\n",
    "print(\"The winner is: \" + winner_name)"
   ]
  },
  {
   "cell_type": "code",
   "execution_count": 3,
   "metadata": {
    "collapsed": true
   },
   "outputs": [],
   "source": [
    "%matplotlib inline"
   ]
  },
  {
   "cell_type": "code",
   "execution_count": 41,
   "metadata": {
    "collapsed": false
   },
   "outputs": [
    {
     "data": {
      "text/plain": [
       "<matplotlib.text.Text at 0x966d5f8>"
      ]
     },
     "execution_count": 41,
     "metadata": {},
     "output_type": "execute_result"
    },
    {
     "data": {
      "image/png": "[encoded data removed]",
      "text/plain": [
       "<matplotlib.figure.Figure at 0xa8a25c0>"
      ]
     },
     "metadata": {},
     "output_type": "display_data"
    }
   ],
   "source": [
    "import matplotlib.pyplot as plt\n",
    "import numpy as np\n",
    "\n",
    "names = []\n",
    "votes = []\n",
    "\n",
    "# SPlit the dictionary of name:votes into two lists, one for names and onf for vote count\n",
    "for radish in counts:\n",
    "    names.append(radish)\n",
    "    votes.append(counts[radish])\n",
    "    \n",
    "#The X axis can just be numbered 0,1,2,3...\n",
    "x = np.arange(len(counts))\n",
    "\n",
    "plt.bar(x,votes)\n",
    "plt.xticks(x + 0, names, rotation=60)\n",
    "\n",
    "plt.ylabel(\"Votes\")"
   ]
  },
  {
   "cell_type": "code",
   "execution_count": null,
   "metadata": {
    "collapsed": true
   },
   "outputs": [],
   "source": []
  }
 ],
 "metadata": {
  "kernelspec": {
   "display_name": "Python 3",
   "language": "python",
   "name": "python3"
  },
  "language_info": {
   "codemirror_mode": {
    "name": "ipython",
    "version": 3
   },
   "file_extension": ".py",
   "mimetype": "text/x-python",
   "name": "python",
   "nbconvert_exporter": "python",
   "pygments_lexer": "ipython3",
   "version": "3.5.1"
  }
 },
 "nbformat": 4,
 "nbformat_minor": 0
}
